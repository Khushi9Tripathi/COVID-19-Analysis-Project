{
 "cells": [
  {
   "cell_type": "code",
   "execution_count": null,
   "metadata": {
    "id": "0WyGCp5GoPgw"
   },
   "outputs": [],
   "source": [
    "import pandas as pd\n",
    "import matplotlib.pyplot as plt\n",
    "import seaborn as sns\n",
    "import plotly\n",
    "import plotly.express as px\n",
    "import plotly.graph_objects as go\n",
    "\n",
    "import warnings\n",
    "warnings.filterwarnings('ignore')\n",
    "\n",
    "%matplotlib inline"
   ]
  },
  {
   "cell_type": "code",
   "execution_count": null,
   "metadata": {
    "colab": {
     "base_uri": "https://localhost:8080/",
     "height": 206
    },
    "id": "WMjj6h7roPgz",
    "outputId": "17a93e05-d512-430f-b255-1b609fa75f87",
    "scrolled": false
   },
   "outputs": [],
   "source": [
    "df = pd.read_csv(\"covid_19_clean_complete (3).csv\", parse_dates = ['Date'])\n",
    "df.head()"
   ]
  },
  {
   "cell_type": "code",
   "execution_count": null,
   "metadata": {
    "id": "W7BPNVOToPg1"
   },
   "outputs": [],
   "source": [
    "# Renaming columns for easy usage\n",
    "df.rename(columns = {'Date': 'date',\n",
    "                      'Province/State': 'state',\n",
    "                      'Country/Region': 'country',\n",
    "                      'Lat' : 'lat', 'Long': 'long',\n",
    "                      'Confirmed' : 'confirmed',\n",
    "                      'Deaths' : 'deaths',\n",
    "                      'Recovered' : 'recovered'},\n",
    "            inplace = True)"
   ]
  },
  {
   "cell_type": "code",
   "execution_count": null,
   "metadata": {
    "id": "EXi4T81ioPg2"
   },
   "outputs": [],
   "source": [
    "# Active Cases\n",
    "df['active'] = df['confirmed'] - df['deaths'] - df['recovered']"
   ]
  },
  {
   "cell_type": "code",
   "execution_count": null,
   "metadata": {
    "colab": {
     "base_uri": "https://localhost:8080/",
     "height": 206
    },
    "id": "BGBWad_RoPg3",
    "outputId": "d50c7641-4a9e-4718-e6c0-64d094cc16f3"
   },
   "outputs": [],
   "source": [
    "# combining the latest data for the countries \n",
    "top = df[df['date'] == df['date'].max()]\n",
    "world = top.groupby('country')['confirmed', 'active', 'deaths'].sum().reset_index()\n",
    "world.head()"
   ]
  },
  {
   "cell_type": "code",
   "execution_count": null,
   "metadata": {
    "colab": {
     "base_uri": "https://localhost:8080/",
     "height": 542
    },
    "id": "y1GNnkI0oPg4",
    "outputId": "dd6a1b85-5bad-4feb-a3b7-8f0dd640d08f"
   },
   "outputs": [],
   "source": [
    "figure = px.choropleth(world, locations = 'country',\n",
    "                        locationmode = 'country names', color = 'active',\n",
    "                        hover_name = 'country', range_color = [1,1000],\n",
    "                        color_continuous_scale = \"greens\",\n",
    "                        title = \"Countries with Active Cases\")\n",
    "\n",
    "figure.show()"
   ]
  },
  {
   "cell_type": "code",
   "execution_count": null,
   "metadata": {
    "colab": {
     "base_uri": "https://localhost:8080/",
     "height": 206
    },
    "id": "g0O69uwcoPg5",
    "outputId": "364b3550-ba9a-4b06-9904-695fdc0e4d97"
   },
   "outputs": [],
   "source": [
    "# Determine the Total Confimed Cases grouped by Date\n",
    "total_cases = df.groupby('date')['date', 'confirmed'].sum().reset_index()\n",
    "total_cases.head()"
   ]
  },
  {
   "cell_type": "code",
   "execution_count": null,
   "metadata": {
    "colab": {
     "base_uri": "https://localhost:8080/",
     "height": 610
    },
    "id": "s8xFtjrxoPg6",
    "outputId": "cc264d46-52ad-45c8-cd14-5055096640bb",
    "scrolled": true
   },
   "outputs": [],
   "source": [
    "plt.figure(figsize = (10,8))\n",
    "plt.xticks(rotation = 90, fontsize= 10)\n",
    "plt.yticks (fontsize = 15)\n",
    "plt.xlabel(\"Dates\", fontsize = 30)\n",
    "plt.ylabel(\"Total Cases\", fontsize = 30)\n",
    "plt.title(\"Worldwide Confirmed Cases Over Time\", fontsize = 30)\n",
    "\n",
    "ax = sns.pointplot(x = total_cases.date.dt.date, y = total_cases.confirmed, color = 'r')\n",
    "ax.set(xlabel = 'Dates', ylabel = 'Total Cases')"
   ]
  },
  {
   "cell_type": "code",
   "execution_count": null,
   "metadata": {
    "id": "mYUCXYouoPg6"
   },
   "outputs": [],
   "source": [
    "# Current Top Countries having most Active Cases\n",
    "top_actives = top.groupby(by = 'country')['active'].sum().sort_values(ascending=False).head(20).reset_index()"
   ]
  },
  {
   "cell_type": "code",
   "execution_count": null,
   "metadata": {
    "colab": {
     "base_uri": "https://localhost:8080/",
     "height": 676
    },
    "id": "QuZx176JoPg8",
    "outputId": "bc5c6732-a66c-4a5d-938b-a8165a0a59ea",
    "scrolled": true
   },
   "outputs": [],
   "source": [
    "plt.figure(figsize = (15,10))\n",
    "plt.xticks(fontsize= 15)\n",
    "plt.yticks (fontsize = 15)\n",
    "plt.xlabel(\"Total Cases\", fontsize = 30)\n",
    "plt.ylabel(\"Country\", fontsize = 30)\n",
    "plt.title(\"Top 20 countries having most active cases\", fontsize = 30)\n",
    "\n",
    "ax = sns.barplot(x = top_actives.active, y = top_actives.country)\n",
    "\n",
    "for i, (value, name) in enumerate(zip(top_actives.active, top_actives.country)):\n",
    "    ax.text(value, i-.05, f'{value:,.0f}', size=10, ha ='left', va = 'center') \n",
    "    \n",
    "ax.set(xlabel = 'Total cases', ylabel = 'Country')"
   ]
  },
  {
   "cell_type": "code",
   "execution_count": null,
   "metadata": {
    "colab": {
     "base_uri": "https://localhost:8080/",
     "height": 206
    },
    "id": "ubKfgSaOoPg9",
    "outputId": "eb07a68b-816c-4f8e-b67a-cc3ef49e3772"
   },
   "outputs": [],
   "source": [
    "# Data of China\n",
    "china = df[df.country == 'China']\n",
    "china = china.groupby(by = 'date')['recovered', 'deaths', 'confirmed', 'active'].sum().reset_index()\n",
    "china.head()"
   ]
  },
  {
   "cell_type": "code",
   "execution_count": null,
   "metadata": {
    "colab": {
     "base_uri": "https://localhost:8080/",
     "height": 206
    },
    "id": "L_xTZIPeoPg-",
    "outputId": "1684c62c-cf70-4f9c-8c9b-d832e3cb42da"
   },
   "outputs": [],
   "source": [
    "# Data of USA\n",
    "us = df[df.country == 'US']\n",
    "us = us.groupby(by = 'date')['recovered', 'deaths', 'confirmed', 'active'].sum().reset_index()\n",
    "us = us.iloc[33:].reset_index().drop('index', axis = 1)\n",
    "us.head()"
   ]
  },
  {
   "cell_type": "code",
   "execution_count": null,
   "metadata": {
    "colab": {
     "base_uri": "https://localhost:8080/",
     "height": 206
    },
    "id": "H_l3ZOLKoPg-",
    "outputId": "b9166334-1c0c-4a71-952a-da4931dc257b"
   },
   "outputs": [],
   "source": [
    "# Data of Italy\n",
    "italy = df[df.country == 'Italy']\n",
    "italy = italy.groupby(by = 'date')['recovered', 'deaths', 'confirmed', 'active'].sum().reset_index()\n",
    "italy = italy.iloc[9:].reset_index().drop('index', axis = 1)\n",
    "italy.head()"
   ]
  },
  {
   "cell_type": "code",
   "execution_count": null,
   "metadata": {
    "colab": {
     "base_uri": "https://localhost:8080/",
     "height": 206
    },
    "id": "7zApn0OFoPg_",
    "outputId": "4cedc7eb-97f3-499f-dad5-6147107086f4"
   },
   "outputs": [],
   "source": [
    "india = df[df.country == 'India']\n",
    "india = india.groupby(by = 'date')['recovered', 'deaths', 'confirmed', 'active'].sum().reset_index()\n",
    "india = india.iloc[8:].reset_index().drop('index', axis = 1)\n",
    "india.head()"
   ]
  },
  {
   "cell_type": "code",
   "execution_count": null,
   "metadata": {
    "colab": {
     "base_uri": "https://localhost:8080/",
     "height": 636
    },
    "id": "d9x2DBEwoPhA",
    "outputId": "b39027b1-55cb-41ed-b77f-32a559959668"
   },
   "outputs": [],
   "source": [
    "plt.figure(figsize=(15,10))\n",
    "sns.pointplot(china.index, china.confirmed, color='red')\n",
    "sns.pointplot(us.index, us.confirmed, color='green')\n",
    "sns.pointplot(italy.index, italy.confirmed, color='blue')\n",
    "sns.pointplot(india.index, india.confirmed, color='orange')\n",
    "plt.title('Confirmed Cases Over Time', fontsize = 25)\n",
    "plt.xlabel('No. Of Days', fontsize = 15)\n",
    "plt.ylabel('Confirmed Cases', fontsize = 15)\n",
    "plt.show()"
   ]
  },
  {
   "cell_type": "code",
   "execution_count": null,
   "metadata": {
    "colab": {
     "base_uri": "https://localhost:8080/",
     "height": 636
    },
    "id": "7ae0lXyToPhB",
    "outputId": "b5016644-57eb-41f0-df5d-4fb494869a71"
   },
   "outputs": [],
   "source": [
    "plt.figure(figsize=(15,10))\n",
    "\n",
    "sns.pointplot(china.index, china.deaths, color='red')\n",
    "sns.pointplot(us.index, us.deaths, color='green')\n",
    "sns.pointplot(italy.index, italy.deaths, color='blue')\n",
    "sns.pointplot(india.index, india.deaths, color='orange')\n",
    "plt.title('Death Cases Over Time', fontsize = 25)\n",
    "plt.xlabel('No. Of Days', fontsize = 15)\n",
    "plt.ylabel('Death Cases', fontsize = 15)\n",
    "plt.show()"
   ]
  },
  {
   "cell_type": "code",
   "execution_count": null,
   "metadata": {
    "colab": {
     "base_uri": "https://localhost:8080/",
     "height": 636
    },
    "id": "sITPhFlNoPhC",
    "outputId": "83a5d6b4-c2ed-448e-bb1f-7bda6b4c9128"
   },
   "outputs": [],
   "source": [
    "plt.figure(figsize=(15,10))\n",
    "\n",
    "sns.pointplot(china.index, china.recovered, color='red')\n",
    "sns.pointplot(us.index, us.recovered, color='green')\n",
    "sns.pointplot(italy.index, italy.recovered, color='blue')\n",
    "sns.pointplot(india.index, india.recovered, color='orange')\n",
    "plt.title('Recovered Cases Over Time', fontsize = 25)\n",
    "plt.xlabel('No. Of Days', fontsize = 15)\n",
    "plt.ylabel('Recovered Cases', fontsize = 15)\n",
    "plt.show()"
   ]
  },
  {
   "cell_type": "markdown",
   "metadata": {
    "id": "yN3fbt1YoPhD"
   },
   "source": [
    "# Detailed Analysis of COVID Cases in India"
   ]
  },
  {
   "cell_type": "code",
   "execution_count": null,
   "metadata": {
    "colab": {
     "base_uri": "https://localhost:8080/",
     "height": 206
    },
    "id": "HlycQVCaoPhG",
    "outputId": "d05ec436-9e84-4f10-a317-37b4ea36b416"
   },
   "outputs": [],
   "source": [
    "df_india = pd.read_excel('covid_19_india.xlsx')\n",
    "df_india.head()"
   ]
  },
  {
   "cell_type": "code",
   "execution_count": null,
   "metadata": {
    "id": "i8jQkhCgoPhJ"
   },
   "outputs": [],
   "source": [
    "df_india['Total Cases'] = df_india['Total Confirmed cases (Indian National)'] + df_india['Total Confirmed cases ( Foreign National )']"
   ]
  },
  {
   "cell_type": "code",
   "execution_count": null,
   "metadata": {
    "colab": {
     "base_uri": "https://localhost:8080/",
     "height": 882
    },
    "id": "9_nqavRnoPhK",
    "outputId": "de5cf0cc-5156-4833-8a2e-4ae2b9214d5b"
   },
   "outputs": [],
   "source": [
    "df_india['Total Active'] = df_india['Total Cases'] - (df_india['Death'] + df_india['Cured'])\n",
    "total_active = df_india['Total Active'].sum()\n",
    "print('Total Number of Active COVID 19 cases across India', total_active)\n",
    "Tot_Cases = df_india.groupby('Name of State / UT')['Total Active'].sum().sort_values(ascending = False).to_frame()\n",
    "Tot_Cases.style.background_gradient(cmap='hot_r')"
   ]
  },
  {
   "cell_type": "code",
   "execution_count": null,
   "metadata": {
    "colab": {
     "base_uri": "https://localhost:8080/",
     "height": 522
    },
    "id": "iInBD-zboPhM",
    "outputId": "1cfef14b-e5f3-42ee-8416-5360b0e8513e"
   },
   "outputs": [],
   "source": [
    "plt.subplots(figsize=(12,8))"
   ]
  },
  {
   "cell_type": "code",
   "execution_count": null,
   "metadata": {
    "colab": {
     "base_uri": "https://localhost:8080/",
     "height": 514
    },
    "id": "_bfEvwM2oPhN",
    "outputId": "876beea0-fc8c-46b4-ee5b-34a016e6fc63"
   },
   "outputs": [],
   "source": [
    "f,ax= plt.subplots(figsize=(12,8))\n",
    "data = df_india[['Name of State / UT','Total Cases','Cured','Death']]\n",
    "data.sort_values('Total Cases', ascending=False, inplace = True)\n",
    "sns.set_color_codes(\"pastel\")\n",
    "sns.barplot(x=\"Total Cases\", y=\"Name of State / UT\", data=data, label=\"Total\", color =\"r\")\n",
    "\n",
    "sns.set_color_codes(\"muted\")\n",
    "sns.barplot(x=\"Cured\", y=\"Name of State / UT\", data=data, label=\"Cured\", color =\"g\")\n",
    "\n",
    "ax.legend(ncol=2, loc=\"lower right\", frameon = True)\n",
    "ax.set(ylabel=\"States and UT\", xlabel=\"Cases\")\n"
   ]
  },
  {
   "cell_type": "code",
   "execution_count": null,
   "metadata": {
    "id": "hHKiMGW6oPhQ"
   },
   "outputs": [],
   "source": [
    "dbd_india = pd.read_excel('per_day_cases.xlsx',parse_dates=True, sheet_name='India')"
   ]
  },
  {
   "cell_type": "code",
   "execution_count": null,
   "metadata": {
    "colab": {
     "base_uri": "https://localhost:8080/",
     "height": 942
    },
    "id": "ZUp5ySPloPhR",
    "outputId": "b5cf8001-62ef-4fbe-dd76-e134b3dec614",
    "scrolled": true
   },
   "outputs": [],
   "source": [
    "fig = go.Figure()\n",
    "fig.add_trace(go.Scatter(x=dbd_india['Date'], y=dbd_india['Total Cases'], mode='lines+markers', name='Total Cases'))\n",
    "fig.update_layout(title_text='Trend of Coronavirus cases in India (Cumulative Cases)', plot_bgcolor='rgb(230, 230, 230)')\n",
    "fig.show()\n",
    "fig = px.bar(dbd_india, x=\"Date\", y=\"New Cases\", barmode='group', height=400)\n",
    "fig.update_layout(title_text='Coronavirus cases in India on daily basis', plot_bgcolor='rgb(230, 230, 230)')\n",
    "fig.show()"
   ]
  },
  {
   "cell_type": "markdown",
   "metadata": {
    "id": "7p2TlgnRoPhS"
   },
   "source": [
    "# Insights into COVID cases globally"
   ]
  },
  {
   "cell_type": "code",
   "execution_count": null,
   "metadata": {
    "id": "j6W9BPnKoPhS"
   },
   "outputs": [],
   "source": [
    "df_confirmed = pd.read_csv('time_series_covid19_confirmed_global.csv')\n",
    "df_recovered = pd.read_csv('time_series_covid19_recovered_global.csv')\n",
    "df_deaths = pd.read_csv('time_series_covid19_deaths_global.csv')\n",
    "\n",
    "df_confirmed.rename(columns = {'Country/Region':'Country'}, inplace=True)\n",
    "df_recovered.rename(columns = {'Country/Region':'Country'}, inplace=True)\n",
    "df_deaths.rename(columns = {'Country/Region':'Country'}, inplace=True)"
   ]
  },
  {
   "cell_type": "code",
   "execution_count": null,
   "metadata": {
    "colab": {
     "base_uri": "https://localhost:8080/",
     "height": 299
    },
    "id": "sQcpZH7GoPhT",
    "outputId": "ad31f7da-c94c-41a9-ff45-16f6a473c035"
   },
   "outputs": [],
   "source": [
    "df_confirmed.head()"
   ]
  },
  {
   "cell_type": "code",
   "execution_count": null,
   "metadata": {
    "colab": {
     "base_uri": "https://localhost:8080/",
     "height": 299
    },
    "id": "99DPRNIOoPhT",
    "outputId": "997aad0f-8be8-4a20-9639-7615f780b0b2"
   },
   "outputs": [],
   "source": [
    "df_recovered.head()"
   ]
  },
  {
   "cell_type": "code",
   "execution_count": null,
   "metadata": {
    "colab": {
     "base_uri": "https://localhost:8080/",
     "height": 299
    },
    "id": "t_HcOdh-oPhU",
    "outputId": "780762ab-5187-4394-fb03-e299d3319a8b"
   },
   "outputs": [],
   "source": [
    "df_deaths.head()"
   ]
  },
  {
   "cell_type": "code",
   "execution_count": null,
   "metadata": {
    "colab": {
     "base_uri": "https://localhost:8080/",
     "height": 206
    },
    "id": "YtKZGzV4oPhU",
    "outputId": "a1791b62-9fb2-4b9c-b25a-c59538d41eb4",
    "scrolled": true
   },
   "outputs": [],
   "source": [
    "df.head()"
   ]
  },
  {
   "cell_type": "code",
   "execution_count": null,
   "metadata": {
    "colab": {
     "base_uri": "https://localhost:8080/",
     "height": 424
    },
    "id": "zn29mtzeoPhU",
    "outputId": "8b4bfd93-e74e-45b2-c7c3-2a53676ebf1a",
    "scrolled": true
   },
   "outputs": [],
   "source": [
    "df2 = df.groupby(['date', 'country', 'state'])[['date', 'state', 'country', 'confirmed', 'deaths', 'recovered']]\n",
    "df2.head()"
   ]
  },
  {
   "cell_type": "code",
   "execution_count": null,
   "metadata": {
    "id": "M7ZiCbTxoPhU"
   },
   "outputs": [],
   "source": [
    "df_india_cases = df.query('country == \"India\"').groupby(\"date\")[['confirmed', 'deaths', 'recovered']].sum().reset_index()\n",
    "india_confirmed, india_deaths, india_recovered = df_india_cases[['date', 'confirmed']], df_india_cases[['date', 'deaths']], df_india_cases[['date', 'recovered']]"
   ]
  },
  {
   "cell_type": "code",
   "execution_count": null,
   "metadata": {
    "colab": {
     "base_uri": "https://localhost:8080/",
     "height": 237
    },
    "id": "d7MLPmIFoPhV",
    "outputId": "cdc3c73a-e581-4f35-9bbb-d235a3e4ef70"
   },
   "outputs": [],
   "source": [
    "df.groupby('date').sum().head()"
   ]
  },
  {
   "cell_type": "code",
   "execution_count": null,
   "metadata": {
    "id": "3z3nycUCoPhV"
   },
   "outputs": [],
   "source": [
    "confirmed = df.groupby('date').sum()['confirmed'].reset_index()\n",
    "deaths = df.groupby('date').sum()['deaths'].reset_index()\n",
    "recovered = df.groupby('date').sum()['recovered'].reset_index()"
   ]
  },
  {
   "cell_type": "code",
   "execution_count": null,
   "metadata": {
    "colab": {
     "base_uri": "https://localhost:8080/",
     "height": 542
    },
    "id": "kUMR9lW3oPhV",
    "outputId": "b3a9d2d4-18b9-4a0f-ce01-76370ebab3af"
   },
   "outputs": [],
   "source": [
    "fig = go.Figure()\n",
    "fig.add_trace(go.Scatter(x=confirmed['date'], y=confirmed['confirmed'], mode='lines+markers', name='confirmed', line = dict(color = 'blue')))\n",
    "fig.add_trace(go.Scatter(x=deaths['date'], y=deaths['deaths'], mode='lines+markers', name='deaths', line = dict(color = 'red')))\n",
    "fig.add_trace(go.Scatter(x=recovered['date'], y=recovered['recovered'], mode='lines+markers', name='recovered', line = dict(color = 'green')))\n",
    "fig.update_layout(title_text='World wide COVID-19 Cases', xaxis_tickfont_size = 14, yaxis=dict(title='Number of Cases'), plot_bgcolor='rgb(230, 230, 230)')\n",
    "fig.show()\n"
   ]
  },
  {
   "cell_type": "markdown",
   "metadata": {
    "id": "LgGLeeABoPhW"
   },
   "source": [
    "# TimeSeries Analysis of COVID cases globally and India in Particular"
   ]
  },
  {
   "cell_type": "code",
   "execution_count": null,
   "metadata": {
    "colab": {
     "base_uri": "https://localhost:8080/"
    },
    "id": "UlWvDpX0jHs4",
    "outputId": "f7407fad-a57d-4c29-e963-d9a735cd4f40"
   },
   "outputs": [],
   "source": [
    "!pip install pystan~=2.14\n",
    "!pip install fbprophet"
   ]
  },
  {
   "cell_type": "code",
   "execution_count": null,
   "metadata": {
    "id": "o5azEwIxlPOt"
   },
   "outputs": [],
   "source": [
    "# to install in jupyter\n",
    "!pip install pystan fbprophet\n",
    "from fbprophet import Prophet"
   ]
  },
  {
   "cell_type": "code",
   "execution_count": null,
   "metadata": {},
   "outputs": [],
   "source": [
    "pip install prophet"
   ]
  },
  {
   "cell_type": "code",
   "execution_count": null,
   "metadata": {
    "id": "M3pv0_S5jndE"
   },
   "outputs": [],
   "source": [
    "from fbprophet import Prophet\n",
    "import pandas as pd"
   ]
  },
  {
   "cell_type": "code",
   "execution_count": null,
   "metadata": {
    "id": "_Pn7XbJIkB8v"
   },
   "outputs": [],
   "source": [
    "import warnings; \n",
    "warnings.simplefilter('ignore')"
   ]
  },
  {
   "cell_type": "code",
   "execution_count": null,
   "metadata": {
    "id": "9iYAFmjBoPhW"
   },
   "outputs": [],
   "source": [
    "from fbprophet import Prophet"
   ]
  },
  {
   "cell_type": "code",
   "execution_count": null,
   "metadata": {
    "id": "Xlc9fp7JoPhW"
   },
   "outputs": [],
   "source": [
    "confirmed.columns = ['ds', 'y']\n",
    "confirmed['ds']= pd.to_datetime(confirmed['ds'])\n"
   ]
  },
  {
   "cell_type": "code",
   "execution_count": null,
   "metadata": {
    "colab": {
     "base_uri": "https://localhost:8080/",
     "height": 241
    },
    "id": "HDxM8KpeoPhW",
    "outputId": "b17a9b7e-1e77-47dc-bf12-6f330917ec22"
   },
   "outputs": [],
   "source": [
    "m = Prophet(interval_width=0.95)\n",
    "m.fit(confirmed)\n",
    "future=m.make_future_dataframe(periods=7)\n",
    "future.tail()\n"
   ]
  },
  {
   "cell_type": "code",
   "execution_count": null,
   "metadata": {
    "colab": {
     "base_uri": "https://localhost:8080/",
     "height": 206
    },
    "id": "zLJzbZbgoPhX",
    "outputId": "24d41093-3e93-4e73-94cc-11b7cf50c0c1"
   },
   "outputs": [],
   "source": [
    "forecast = m.predict(future)\n",
    "forecast[['ds', 'yhat', 'yhat_lower', 'yhat_upper']].tail()"
   ]
  },
  {
   "cell_type": "code",
   "execution_count": null,
   "metadata": {
    "colab": {
     "base_uri": "https://localhost:8080/",
     "height": 441
    },
    "id": "_sM7ZqTUoPhX",
    "outputId": "3b9c4327-bceb-4402-801b-53d0d9d90aa8"
   },
   "outputs": [],
   "source": [
    "confirmed_forecast_plot = m.plot(forecast)"
   ]
  },
  {
   "cell_type": "code",
   "execution_count": null,
   "metadata": {
    "colab": {
     "base_uri": "https://localhost:8080/",
     "height": 441
    },
    "id": "0T2_hKauoPhX",
    "outputId": "9150e9fe-8c40-4f25-b023-0a79c6775a5f"
   },
   "outputs": [],
   "source": [
    "confirmed_forecast_plot = m.plot_components(forecast)"
   ]
  },
  {
   "cell_type": "code",
   "execution_count": null,
   "metadata": {
    "id": "KESVY0bBoPhY"
   },
   "outputs": [],
   "source": [
    "deaths.columns = ['ds', 'y']\n",
    "deaths['ds']= pd.to_datetime(deaths['ds'])"
   ]
  },
  {
   "cell_type": "code",
   "execution_count": null,
   "metadata": {
    "colab": {
     "base_uri": "https://localhost:8080/",
     "height": 241
    },
    "id": "t0QTdyZJoPhY",
    "outputId": "452ef2d9-0f7d-4a94-88d7-ba57d527cc31"
   },
   "outputs": [],
   "source": [
    "m = Prophet()\n",
    "m.fit(deaths)\n",
    "future=m.make_future_dataframe(periods=7)\n",
    "future.tail()"
   ]
  },
  {
   "cell_type": "code",
   "execution_count": null,
   "metadata": {
    "colab": {
     "base_uri": "https://localhost:8080/",
     "height": 206
    },
    "id": "Qao-DqvroPhY",
    "outputId": "3d44495a-e066-46ab-c791-7460fba33993"
   },
   "outputs": [],
   "source": [
    "forecast = m.predict(future)\n",
    "forecast[['ds', 'yhat', 'yhat_lower', 'yhat_upper']].tail()"
   ]
  },
  {
   "cell_type": "code",
   "execution_count": null,
   "metadata": {
    "colab": {
     "base_uri": "https://localhost:8080/",
     "height": 441
    },
    "id": "-HLo35BgoPhY",
    "outputId": "02416e94-5ee7-4dc6-a5b4-f4b413c34ed7"
   },
   "outputs": [],
   "source": [
    "deaths_forecast_plot = m.plot(forecast)"
   ]
  },
  {
   "cell_type": "code",
   "execution_count": null,
   "metadata": {
    "colab": {
     "base_uri": "https://localhost:8080/",
     "height": 441
    },
    "id": "rezYqItAoPhZ",
    "outputId": "019d96c6-7399-42f6-f61b-48079b486eef"
   },
   "outputs": [],
   "source": [
    "deaths_forecast_plot = m.plot_components(forecast)"
   ]
  },
  {
   "cell_type": "code",
   "execution_count": null,
   "metadata": {
    "id": "abF3y6KYoPha"
   },
   "outputs": [],
   "source": [
    "recovered.columns = ['ds', 'y']\n",
    "recovered['ds']= pd.to_datetime(recovered['ds'])"
   ]
  },
  {
   "cell_type": "code",
   "execution_count": null,
   "metadata": {
    "colab": {
     "base_uri": "https://localhost:8080/",
     "height": 241
    },
    "id": "u1pdfoq8oPhb",
    "outputId": "1338e609-395c-48eb-c768-b68b19aae19d"
   },
   "outputs": [],
   "source": [
    "m = Prophet()\n",
    "m.fit(recovered)\n",
    "future=m.make_future_dataframe(periods=7)\n",
    "future.tail()"
   ]
  },
  {
   "cell_type": "code",
   "execution_count": null,
   "metadata": {
    "colab": {
     "base_uri": "https://localhost:8080/",
     "height": 206
    },
    "id": "Kvqi8T6xoPhb",
    "outputId": "84c35247-3d85-49bf-a47c-03117b1674fb"
   },
   "outputs": [],
   "source": [
    "forecast = m.predict(future)\n",
    "forecast[['ds', 'yhat', 'yhat_lower', 'yhat_upper']].tail()"
   ]
  },
  {
   "cell_type": "code",
   "execution_count": null,
   "metadata": {
    "colab": {
     "base_uri": "https://localhost:8080/",
     "height": 441
    },
    "id": "nY7HWdMJoPhc",
    "outputId": "44a37f4f-0af6-4ab3-f021-2b6b023b5e91"
   },
   "outputs": [],
   "source": [
    "recovered_forecast_plot = m.plot(forecast)"
   ]
  },
  {
   "cell_type": "code",
   "execution_count": null,
   "metadata": {
    "colab": {
     "base_uri": "https://localhost:8080/",
     "height": 441
    },
    "id": "4nVhz583oPhd",
    "outputId": "b5817f3c-71ba-465d-b17b-6ea342aa9027"
   },
   "outputs": [],
   "source": [
    "recovered_forecast_plot = m.plot_components(forecast)"
   ]
  },
  {
   "cell_type": "code",
   "execution_count": null,
   "metadata": {
    "id": "E9Jut61ZoPhd"
   },
   "outputs": [],
   "source": [
    "india_confirmed.columns = ['ds', 'y']\n",
    "india_confirmed['ds']= pd.to_datetime(india_confirmed['ds'])"
   ]
  },
  {
   "cell_type": "code",
   "execution_count": null,
   "metadata": {
    "colab": {
     "base_uri": "https://localhost:8080/",
     "height": 241
    },
    "id": "MefJ0aijoPhh",
    "outputId": "d929e368-211b-4bc9-fdf0-35bd677af0a2"
   },
   "outputs": [],
   "source": [
    "m = Prophet()\n",
    "m.fit(india_confirmed)\n",
    "future=m.make_future_dataframe(periods=7)\n",
    "future.tail()"
   ]
  },
  {
   "cell_type": "code",
   "execution_count": null,
   "metadata": {
    "colab": {
     "base_uri": "https://localhost:8080/",
     "height": 206
    },
    "id": "MkxS7p_coPhi",
    "outputId": "a6cadfe9-6278-41ba-d684-bf9d046cb3f5"
   },
   "outputs": [],
   "source": [
    "forecast = m.predict(future)\n",
    "forecast[['ds', 'yhat', 'yhat_lower', 'yhat_upper']].tail()"
   ]
  },
  {
   "cell_type": "code",
   "execution_count": null,
   "metadata": {
    "colab": {
     "base_uri": "https://localhost:8080/",
     "height": 441
    },
    "id": "3MD1DDSWoPhj",
    "outputId": "531c4f8e-64cd-4300-f217-e84a527100fa"
   },
   "outputs": [],
   "source": [
    "india_confirmed_plot = m.plot(forecast)"
   ]
  },
  {
   "cell_type": "code",
   "execution_count": null,
   "metadata": {
    "colab": {
     "base_uri": "https://localhost:8080/",
     "height": 441
    },
    "id": "sAuCoMrloPhj",
    "outputId": "60b0a351-afb7-46ac-bfda-fea4d7f2728d"
   },
   "outputs": [],
   "source": [
    "india_confirmed_plot = m.plot_components(forecast)"
   ]
  },
  {
   "cell_type": "code",
   "execution_count": null,
   "metadata": {
    "id": "Ih1onahZoPhn"
   },
   "outputs": [],
   "source": [
    "india_deaths.columns = ['ds', 'y']\n",
    "india_deaths['ds']= pd.to_datetime(india_deaths['ds'])"
   ]
  },
  {
   "cell_type": "code",
   "execution_count": null,
   "metadata": {
    "colab": {
     "base_uri": "https://localhost:8080/",
     "height": 241
    },
    "id": "VQpTTeEwoPhr",
    "outputId": "52a4c051-478b-4169-9396-4318bfbf38c5"
   },
   "outputs": [],
   "source": [
    "m = Prophet()\n",
    "m.fit(india_deaths)\n",
    "future=m.make_future_dataframe(periods=7)\n",
    "future.tail()"
   ]
  },
  {
   "cell_type": "code",
   "execution_count": null,
   "metadata": {
    "colab": {
     "base_uri": "https://localhost:8080/",
     "height": 206
    },
    "id": "CWYWFFIEoPht",
    "outputId": "0eed12a9-41f0-405c-a479-e50039a98015"
   },
   "outputs": [],
   "source": [
    "forecast = m.predict(future)\n",
    "forecast[['ds', 'yhat', 'yhat_lower', 'yhat_upper']].tail()"
   ]
  },
  {
   "cell_type": "code",
   "execution_count": null,
   "metadata": {
    "colab": {
     "base_uri": "https://localhost:8080/",
     "height": 441
    },
    "id": "m6Qx5s-doPhu",
    "outputId": "c6339955-fc93-4846-d583-8219815bee95"
   },
   "outputs": [],
   "source": [
    "india_deaths_plot = m.plot(forecast)"
   ]
  },
  {
   "cell_type": "code",
   "execution_count": null,
   "metadata": {
    "colab": {
     "base_uri": "https://localhost:8080/",
     "height": 441
    },
    "id": "bGzP0tFioPhv",
    "outputId": "cafa6edb-1dd1-42a0-f401-6fa211010871"
   },
   "outputs": [],
   "source": [
    "india_deaths_plot = m.plot_components(forecast)"
   ]
  },
  {
   "cell_type": "code",
   "execution_count": null,
   "metadata": {
    "id": "XN5u-pbcoPhw"
   },
   "outputs": [],
   "source": [
    "india_recovered.columns = ['ds', 'y']\n",
    "india_recovered['ds']= pd.to_datetime(india_recovered['ds'])"
   ]
  },
  {
   "cell_type": "code",
   "execution_count": null,
   "metadata": {
    "colab": {
     "base_uri": "https://localhost:8080/",
     "height": 241
    },
    "id": "PmSyH-iEoPhz",
    "outputId": "83c2e71d-59c6-400a-db27-ea8be2413a03"
   },
   "outputs": [],
   "source": [
    "m = Prophet()\n",
    "m.fit(india_recovered)\n",
    "future=m.make_future_dataframe(periods=7)\n",
    "future.tail()"
   ]
  },
  {
   "cell_type": "code",
   "execution_count": null,
   "metadata": {
    "colab": {
     "base_uri": "https://localhost:8080/",
     "height": 206
    },
    "id": "_LnbeAQFoPh0",
    "outputId": "c022bf5b-1eb0-4873-f4ec-9ce6bdf5a7cb"
   },
   "outputs": [],
   "source": [
    "forecast = m.predict(future)\n",
    "forecast[['ds', 'yhat', 'yhat_lower', 'yhat_upper']].tail()"
   ]
  },
  {
   "cell_type": "code",
   "execution_count": null,
   "metadata": {
    "colab": {
     "base_uri": "https://localhost:8080/",
     "height": 441
    },
    "id": "-SZLp4K3oPh1",
    "outputId": "61972672-123d-4fbe-9c2e-18ef25fd2fc6"
   },
   "outputs": [],
   "source": [
    "india_recovered_plot = m.plot(forecast)"
   ]
  },
  {
   "cell_type": "code",
   "execution_count": null,
   "metadata": {
    "colab": {
     "base_uri": "https://localhost:8080/",
     "height": 441
    },
    "id": "2vnxzipboPh1",
    "outputId": "40444389-d4be-4c50-e06a-6608d33287f8"
   },
   "outputs": [],
   "source": [
    "india_recovered_plot = m.plot_components(forecast)"
   ]
  },
  {
   "cell_type": "code",
   "execution_count": null,
   "metadata": {
    "id": "VjKnubn1oPh2"
   },
   "outputs": [],
   "source": []
  }
 ],
 "metadata": {
  "colab": {
   "provenance": []
  },
  "kernelspec": {
   "display_name": "Python 3 (ipykernel)",
   "language": "python",
   "name": "python3"
  },
  "language_info": {
   "codemirror_mode": {
    "name": "ipython",
    "version": 3
   },
   "file_extension": ".py",
   "mimetype": "text/x-python",
   "name": "python",
   "nbconvert_exporter": "python",
   "pygments_lexer": "ipython3",
   "version": "3.9.12"
  }
 },
 "nbformat": 4,
 "nbformat_minor": 1
}
